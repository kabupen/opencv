{
 "cells": [
  {
   "cell_type": "code",
   "execution_count": 1,
   "id": "27a994d5-e36d-417e-abc8-f42c6b3a4b21",
   "metadata": {},
   "outputs": [],
   "source": [
    "import numpy as np\n",
    "import matplotlib.pyplot as plt"
   ]
  },
  {
   "cell_type": "code",
   "execution_count": 54,
   "id": "e2c4d69c-2c9b-44ec-b56e-4e56c30272f6",
   "metadata": {},
   "outputs": [],
   "source": [
    "def procrustes(X, Y, scaling=True, reflection='best'):\n",
    "    \n",
    "    # X.shape --> (3,2)\n",
    "    # 3行2列\n",
    "    n,m = X.shape\n",
    "    ny,my = Y.shape\n",
    "    \n",
    "    # 列平均\n",
    "    muX = X.mean(0)\n",
    "    muY = Y.mean(0)\n",
    "    \n",
    "    print(\"muX = \", muX.shape, muX)\n",
    "\n",
    "    X0 = X - muX\n",
    "    Y0 = Y - muY\n",
    "    \n",
    "    print(\"X0 =\", X0.shape)\n",
    "    print(X0)\n",
    "    print(\"X0**2\", X0**2)\n",
    "\n",
    "    ssX = (X0**2.).sum()\n",
    "    ssY = (Y0**2.).sum()\n",
    "    \n",
    "    print(\"SSX =\", ssX)\n",
    "\n",
    "    # centred Frobenius norm\n",
    "    normX = np.sqrt(ssX)\n",
    "    normY = np.sqrt(ssY)\n",
    "    print(\"normX = \", normX)\n",
    "\n",
    "    # scale to equal (unit) norm\n",
    "    X0 /= normX\n",
    "    Y0 /= normY\n",
    "\n",
    "    if my < m:\n",
    "        Y0 = np.concatenate((Y0, np.zeros(n, m-my)),0)\n",
    "\n",
    "    # optimum rotation matrix of Y\n",
    "    print(\"\\nX0.T = \" , X0.T)\n",
    "    print(\"Y0 = \", Y0)\n",
    "    A = np.dot(X0.T, Y0)\n",
    "    print(\"A = \", A)\n",
    "    U,s,Vt = np.linalg.svd(A,full_matrices=False)\n",
    "    V = Vt.T\n",
    "    T = np.dot(V, U.T)\n",
    "\n",
    "    traceTA = s.sum()\n",
    "\n",
    "    # optimum scaling of Y\n",
    "    b = traceTA * normX / normY\n",
    "\n",
    "    # standarised distance between X and b*Y*T + c\n",
    "    d = 1 - traceTA**2\n",
    "\n",
    "    # transformed coords\n",
    "    Z = normX*traceTA*np.dot(Y0, T) + muX\n",
    "\n",
    "    # transformation matrix\n",
    "    if my < m:\n",
    "        T = T[:my,:]\n",
    "    c = muX - b*np.dot(muY, T)\n",
    "    \n",
    "    #transformation values \n",
    "    tform = {'rotation':T, 'scale':b, 'translation':c}\n",
    "   \n",
    "    return d, Z, tform"
   ]
  },
  {
   "cell_type": "code",
   "execution_count": 55,
   "id": "6f808f5f-6c34-4e52-aae9-0405c0c0669a",
   "metadata": {},
   "outputs": [
    {
     "name": "stdout",
     "output_type": "stream",
     "text": [
      "muX =  (2,) [2.         0.33333333]\n",
      "X0 = (3, 2)\n",
      "[[-1.          0.66666667]\n",
      " [ 1.          0.66666667]\n",
      " [ 0.         -1.33333333]]\n",
      "X0**2 [[1.         0.44444444]\n",
      " [1.         0.44444444]\n",
      " [0.         1.77777778]]\n",
      "SSX = 4.666666666666667\n",
      "normX =  2.160246899469287\n",
      "\n",
      "X0.T =  [[-0.46291005  0.46291005  0.        ]\n",
      " [ 0.3086067   0.3086067  -0.6172134 ]]\n",
      "Y0 =  [[-0.4199242  -0.25092372]\n",
      " [-0.06976005  0.61768258]\n",
      " [ 0.48968425 -0.36675886]]\n",
      "A =  [[ 0.1620945   0.40208658]\n",
      " [-0.45335952  0.33955272]]\n",
      "[[ 1  1]\n",
      " [ 3  1]\n",
      " [ 2 -1]]\n",
      "[[1.89820457 2.62936427]\n",
      " [2.28639948 3.59230849]\n",
      " [2.90660411 2.50094847]]\n",
      "[[ 1.08123505  0.83742119]\n",
      " [ 3.06586413  1.13161955]\n",
      " [ 1.85290082 -0.96904074]]\n"
     ]
    },
    {
     "data": {
      "text/plain": [
       "(-2.0, 5.0)"
      ]
     },
     "execution_count": 55,
     "metadata": {},
     "output_type": "execute_result"
    },
    {
     "data": {
      "image/png": "[encoded data removed]",
      "text/plain": [
       "<Figure size 576x576 with 1 Axes>"
      ]
     },
     "metadata": {
      "needs_background": "light"
     },
     "output_type": "display_data"
    }
   ],
   "source": [
    "np.random.seed(1)\n",
    "\n",
    "X = np.array([\n",
    "    [1,1],\n",
    "    [3,1],\n",
    "    [2,-1]\n",
    "])\n",
    "\n",
    "rot = np.array([\n",
    "    [0.5, -np.sqrt(3)/2],\n",
    "    [np.sqrt(3)/2, 0.5]\n",
    "])\n",
    "\n",
    "Y = (0.5*rot@X.T + np.random.normal(0, 0.05, (2,3)) ).T + 2\n",
    "\n",
    "d, Z, tform = procrustes(X, Y)\n",
    "\n",
    "fig, ax = plt.subplots(figsize=(8,8))\n",
    "ax.scatter(X[:,0], X[:,1], label=\"data X\")\n",
    "ax.scatter(Y[:,0], Y[:,1], label=\"data Y\")\n",
    "ax.scatter(Z[:,0], Z[:,1], label=\"data Z\", marker=\"x\")\n",
    "ax.legend()\n",
    "\n",
    "print(X)\n",
    "print(Y)\n",
    "print(Z)\n",
    "\n",
    "ax.set_xlim(-1,5)\n",
    "ax.set_ylim(-2,5)"
   ]
  },
  {
   "cell_type": "code",
   "execution_count": 49,
   "id": "64ba9318-98d9-478c-b8f2-ec1677a37210",
   "metadata": {},
   "outputs": [
    {
     "data": {
      "text/plain": [
       "0.43560000000000004"
      ]
     },
     "execution_count": 49,
     "metadata": {},
     "output_type": "execute_result"
    }
   ],
   "source": [
    "0.66**2"
   ]
  },
  {
   "cell_type": "code",
   "execution_count": 24,
   "id": "2f84caa5-3fa5-49a3-b6ef-df5e0a41c23f",
   "metadata": {},
   "outputs": [
    {
     "data": {
      "text/plain": [
       "(3, 2)"
      ]
     },
     "execution_count": 24,
     "metadata": {},
     "output_type": "execute_result"
    }
   ],
   "source": [
    "X.shape"
   ]
  },
  {
   "cell_type": "code",
   "execution_count": 25,
   "id": "4b247fd7-693e-4e2c-a4aa-9420df770bd2",
   "metadata": {},
   "outputs": [
    {
     "data": {
      "text/plain": [
       "array([[ 1,  1],\n",
       "       [ 3,  1],\n",
       "       [ 2, -1]])"
      ]
     },
     "execution_count": 25,
     "metadata": {},
     "output_type": "execute_result"
    }
   ],
   "source": [
    "X"
   ]
  },
  {
   "cell_type": "code",
   "execution_count": 29,
   "id": "8d6bdb42-05a8-49c7-af89-a53d1a6b2f2a",
   "metadata": {},
   "outputs": [
    {
     "data": {
      "text/plain": [
       "array([2.        , 0.33333333])"
      ]
     },
     "execution_count": 29,
     "metadata": {},
     "output_type": "execute_result"
    }
   ],
   "source": [
    "X.mean(0)"
   ]
  },
  {
   "cell_type": "code",
   "execution_count": 31,
   "id": "025bef0c-f93e-40c5-8a3c-56e2f771d63b",
   "metadata": {},
   "outputs": [
    {
     "data": {
      "text/plain": [
       "array([2.        , 0.33333333])"
      ]
     },
     "execution_count": 31,
     "metadata": {},
     "output_type": "execute_result"
    }
   ],
   "source": [
    "np.sum(X, 0)/3"
   ]
  },
  {
   "cell_type": "code",
   "execution_count": null,
   "id": "4e704a44-86da-4abd-8b18-057dc394ba7c",
   "metadata": {},
   "outputs": [],
   "source": []
  }
 ],
 "metadata": {
  "kernelspec": {
   "display_name": "Python 3 (ipykernel)",
   "language": "python",
   "name": "python3"
  },
  "language_info": {
   "codemirror_mode": {
    "name": "ipython",
    "version": 3
   },
   "file_extension": ".py",
   "mimetype": "text/x-python",
   "name": "python",
   "nbconvert_exporter": "python",
   "pygments_lexer": "ipython3",
   "version": "3.9.10"
  }
 },
 "nbformat": 4,
 "nbformat_minor": 5
}
